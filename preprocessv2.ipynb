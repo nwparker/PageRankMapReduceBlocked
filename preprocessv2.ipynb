{
 "cells": [
  {
   "cell_type": "markdown",
   "metadata": {},
   "source": [
    "#Pre-processing files\n",
    "#NetID Purging"
   ]
  },
  {
   "cell_type": "code",
   "execution_count": 1,
   "metadata": {
    "collapsed": true
   },
   "outputs": [],
   "source": [
    "from collections import defaultdict"
   ]
  },
  {
   "cell_type": "code",
   "execution_count": 2,
   "metadata": {
    "collapsed": true
   },
   "outputs": [],
   "source": [
    "fromNetID = 0.74 # 47 -> 74\n",
    "rejectMin = 0.9 * fromNetID\n",
    "rejectLimit = rejectMin + 0.01\n",
    "\n",
    "def select_line(x):\n",
    "    return ((x >= rejectMin) and (x < rejectLimit))"
   ]
  },
  {
   "cell_type": "code",
   "execution_count": 1,
   "metadata": {
    "collapsed": true
   },
   "outputs": [
    {
     "ename": "NameError",
     "evalue": "name 'select_line' is not defined",
     "output_type": "error",
     "traceback": [
      "\u001b[1;31m---------------------------------------------------------------------------\u001b[0m",
      "\u001b[1;31mNameError\u001b[0m                                 Traceback (most recent call last)",
      "\u001b[1;32m<ipython-input-1-c898ef6eeef2>\u001b[0m in \u001b[0;36m<module>\u001b[1;34m()\u001b[0m\n\u001b[0;32m      3\u001b[0m         \u001b[0mline_split\u001b[0m \u001b[1;33m=\u001b[0m \u001b[0mline\u001b[0m\u001b[1;33m.\u001b[0m\u001b[0msplit\u001b[0m\u001b[1;33m(\u001b[0m\u001b[1;33m)\u001b[0m\u001b[1;33m\u001b[0m\u001b[0m\n\u001b[0;32m      4\u001b[0m         \u001b[0mval\u001b[0m \u001b[1;33m=\u001b[0m \u001b[0mfloat\u001b[0m\u001b[1;33m(\u001b[0m\u001b[0mline_split\u001b[0m\u001b[1;33m[\u001b[0m\u001b[1;36m0\u001b[0m\u001b[1;33m]\u001b[0m\u001b[1;33m)\u001b[0m\u001b[1;33m\u001b[0m\u001b[0m\n\u001b[1;32m----> 5\u001b[1;33m         \u001b[1;32mif\u001b[0m \u001b[1;32mnot\u001b[0m \u001b[0mselect_line\u001b[0m\u001b[1;33m(\u001b[0m\u001b[0mval\u001b[0m\u001b[1;33m)\u001b[0m\u001b[1;33m:\u001b[0m\u001b[1;33m\u001b[0m\u001b[0m\n\u001b[0m\u001b[0;32m      6\u001b[0m             \u001b[0moutfile\u001b[0m\u001b[1;33m.\u001b[0m\u001b[0mwrite\u001b[0m\u001b[1;33m(\u001b[0m\u001b[0mline_split\u001b[0m\u001b[1;33m[\u001b[0m\u001b[1;36m1\u001b[0m\u001b[1;33m]\u001b[0m\u001b[1;33m+\u001b[0m\u001b[1;34m\" \"\u001b[0m\u001b[1;33m+\u001b[0m\u001b[0mline_split\u001b[0m\u001b[1;33m[\u001b[0m\u001b[1;36m2\u001b[0m\u001b[1;33m]\u001b[0m\u001b[1;33m+\u001b[0m\u001b[1;34m\"\\n\"\u001b[0m\u001b[1;33m)\u001b[0m\u001b[1;33m\u001b[0m\u001b[0m\n\u001b[0;32m      7\u001b[0m \u001b[0mold_lines\u001b[0m \u001b[1;33m=\u001b[0m \u001b[0mopen\u001b[0m\u001b[1;33m(\u001b[0m\u001b[1;34m'edges.txt'\u001b[0m\u001b[1;33m)\u001b[0m\u001b[1;33m.\u001b[0m\u001b[0mread\u001b[0m\u001b[1;33m(\u001b[0m\u001b[1;33m)\u001b[0m\u001b[1;33m.\u001b[0m\u001b[0mcount\u001b[0m\u001b[1;33m(\u001b[0m\u001b[1;34m'\\n'\u001b[0m\u001b[1;33m)\u001b[0m\u001b[1;33m\u001b[0m\u001b[0m\n",
      "\u001b[1;31mNameError\u001b[0m: name 'select_line' is not defined"
     ]
    }
   ],
   "source": [
    "with open('edges_new.txt', 'w') as outfile:\n",
    "    for line in open('edges.txt'):\n",
    "        line_split = line.split()\n",
    "        val = float(line_split[0])\n",
    "        if not select_line(val):\n",
    "            outfile.write(line_split[1]+\" \"+line_split[2]+\"\\n\")\n",
    "old_lines = open('edges.txt').read().count('\\n')\n",
    "new_lines = open('edges_new.txt').read().count('\\n')\n",
    "print \"old lines\", old_lines\n",
    "print \"new lines\", new_lines\n",
    "print (new_lines/float(old_lines))"
   ]
  },
  {
   "cell_type": "markdown",
   "metadata": {},
   "source": [
    "##Normal Map Reduce - Node, Edges - formatting"
   ]
  },
  {
   "cell_type": "code",
   "execution_count": 15,
   "metadata": {
    "collapsed": false
   },
   "outputs": [],
   "source": [
    "def pre_proc_simple(output_file=\"nodes_simple.txt\" ,input_file=\"edges_new.txt\"):\n",
    "    out_nodes_dict = defaultdict(list)\n",
    "    for line in open(input_file):\n",
    "        node, node_out = line.split()\n",
    "        node = int(node)\n",
    "        node_out = int(node_out)\n",
    "        out_nodes_dict[node].append(node_out)\n",
    "        if node_out not in out_nodes_dict:\n",
    "            out_nodes_dict[node_out] = []\n",
    "    #calculate intial node page rank    \n",
    "    num_nodes = len(out_nodes_dict)\n",
    "    init_page_rank = (1/float(num_nodes))\n",
    "    with open(output_file, 'w') as outfile:\n",
    "        for node, out_nodes in out_nodes_dict.iteritems():\n",
    "            out_nodes_str = \" \".join(str(x) for x in out_nodes)\n",
    "            bound_conds_str = \"\"\n",
    "            outfile.write(str(node)+\"\\t\"+str(node)+\",\"+str(init_page_rank)+\",\"+out_nodes_str+\",\"+bound_conds_str+\"\\n\")"
   ]
  },
  {
   "cell_type": "markdown",
   "metadata": {},
   "source": [
    "##Bloacked Map Reduce - Node, Edges, Boundary Conditions - formatting"
   ]
  },
  {
   "cell_type": "code",
   "execution_count": 3,
   "metadata": {
    "collapsed": false
   },
   "outputs": [],
   "source": [
    "#load blocks\n",
    "cur_sum = 0\n",
    "block_sums = []\n",
    "for line in open('blocks.txt'):\n",
    "    cur_sum += int(line)\n",
    "    block_sums.append(cur_sum)\n",
    "block_sums.append(block_sums[-1]*2)\n",
    "\n",
    "def BlockIdOfNode(node_id):\n",
    "    index = node_id/10000\n",
    "    if(block_sums[index] < node_id):\n",
    "        return index+1\n",
    "    elif(index == 0 or block_sums[index-1] < node_id):\n",
    "        return index\n",
    "    else:\n",
    "        return index-1"
   ]
  },
  {
   "cell_type": "code",
   "execution_count": 14,
   "metadata": {
    "collapsed": false
   },
   "outputs": [],
   "source": [
    "def pre_proc_avd(output_file=\"nodes.txt\" ,input_file=\"edges_new.txt\"):\n",
    "    all_nodes = set()\n",
    "    out_nodes_dict = defaultdict(list)\n",
    "    bound_conds_dict = defaultdict(list)\n",
    "    for line in open(input_file):\n",
    "        node, node_out = line.split()\n",
    "        node = int(node)\n",
    "        node_out = int(node_out)\n",
    "        out_nodes_dict[node].append(node_out)\n",
    "        if (BlockIdOfNode(node) != BlockIdOfNode(node_out)):\n",
    "            bound_conds_dict[node_out].append(node)\n",
    "        all_nodes.add(node)\n",
    "        all_nodes.add(node_out)\n",
    "    #calc init page rank\n",
    "    num_nodes = len(all_nodes)\n",
    "    init_page_rank = (1/float(num_nodes))\n",
    "    with open(output_file, 'w') as outfile:\n",
    "        for node in all_nodes:\n",
    "            out_nodes = out_nodes_dict[node]\n",
    "            bound_conds = bound_conds_dict[node]\n",
    "            out_nodes_str = \" \".join(str(x) for x in out_nodes)\n",
    "            bound_conds_str = \" \".join(str(x) for x in bound_conds)            \n",
    "            outfile.write(str(node)+\"\\t\"+str(node)+\",\"+str(init_page_rank)+\",\"+out_nodes_str+\",\"+bound_conds_str+\"\\n\")"
   ]
  },
  {
   "cell_type": "code",
   "execution_count": 12,
   "metadata": {
    "collapsed": false
   },
   "outputs": [],
   "source": [
    "pre_proc_avd()"
   ]
  },
  {
   "cell_type": "markdown",
   "metadata": {},
   "source": [
    "#Process test file - simple"
   ]
  },
  {
   "cell_type": "code",
   "execution_count": 16,
   "metadata": {
    "collapsed": false
   },
   "outputs": [],
   "source": [
    "pre_proc_simple(output_file=\"nodes_simple.txt\" ,input_file=\"edges_new.txt\")"
   ]
  },
  {
   "cell_type": "code",
   "execution_count": 18,
   "metadata": {
    "collapsed": true
   },
   "outputs": [],
   "source": [
    "pre_proc_simple(output_file=\"nodes_simple_test1.txt\" ,input_file=\"edges_test1.txt\")"
   ]
  },
  {
   "cell_type": "code",
   "execution_count": null,
   "metadata": {
    "collapsed": true
   },
   "outputs": [],
   "source": []
  }
 ],
 "metadata": {
  "kernelspec": {
   "display_name": "Python 2",
   "language": "python",
   "name": "python2"
  },
  "language_info": {
   "codemirror_mode": {
    "name": "ipython",
    "version": 2
   },
   "file_extension": ".py",
   "mimetype": "text/x-python",
   "name": "python",
   "nbconvert_exporter": "python",
   "pygments_lexer": "ipython2",
   "version": "2.7.9"
  }
 },
 "nbformat": 4,
 "nbformat_minor": 0
}
