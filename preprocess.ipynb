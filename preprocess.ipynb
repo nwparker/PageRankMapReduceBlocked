{
 "cells": [
  {
   "cell_type": "code",
   "execution_count": 2,
   "metadata": {
    "collapsed": true
   },
   "outputs": [],
   "source": [
    "fromNetID = 0.74 # 82 is 28 reversed\n",
    "rejectMin = 0.9 * fromNetID\n",
    "rejectLimit = rejectMin + 0.01\n",
    "\n",
    "def select_line(x):\n",
    "    return ((x >= rejectMin) and (x < rejectLimit))"
   ]
  },
  {
   "cell_type": "code",
   "execution_count": 4,
   "metadata": {
    "collapsed": false
   },
   "outputs": [],
   "source": [
    "with open('edges_new.txt', 'w') as outfile:\n",
    "    for line in open('edges.txt'):\n",
    "        line_split = line.split()\n",
    "        val = float(line_split[0])\n",
    "        if not select_line(val):\n",
    "            outfile.write(line_split[1]+\" \"+line_split[2]+\"\\n\")  "
   ]
  },
  {
   "cell_type": "code",
   "execution_count": 6,
   "metadata": {
    "collapsed": false
   },
   "outputs": [],
   "source": [
    "old_lines = open('edges.txt').read().count('\\n')"
   ]
  },
  {
   "cell_type": "code",
   "execution_count": 8,
   "metadata": {
    "collapsed": false
   },
   "outputs": [
    {
     "name": "stdout",
     "output_type": "stream",
     "text": [
      "\n"
     ]
    }
   ],
   "source": [
    "new_lines = open('edges_new.txt').read().count('\\n')"
   ]
  },
  {
   "cell_type": "code",
   "execution_count": 10,
   "metadata": {
    "collapsed": false
   },
   "outputs": [
    {
     "name": "stdout",
     "output_type": "stream",
     "text": [
      "old lines 7600595\n",
      "new lines 7524245\n",
      "0.989954733807\n"
     ]
    }
   ],
   "source": [
    "print \"old lines\", old_lines\n",
    "print \"new lines\", new_lines\n",
    "print (new_lines/float(old_lines))"
   ]
  },
  {
   "cell_type": "code",
   "execution_count": null,
   "metadata": {
    "collapsed": true
   },
   "outputs": [],
   "source": []
  }
 ],
 "metadata": {
  "kernelspec": {
   "display_name": "Python 2",
   "language": "python",
   "name": "python2"
  },
  "language_info": {
   "codemirror_mode": {
    "name": "ipython",
    "version": 2
   },
   "file_extension": ".py",
   "mimetype": "text/x-python",
   "name": "python",
   "nbconvert_exporter": "python",
   "pygments_lexer": "ipython2",
   "version": "2.7.9"
  }
 },
 "nbformat": 4,
 "nbformat_minor": 0
}
